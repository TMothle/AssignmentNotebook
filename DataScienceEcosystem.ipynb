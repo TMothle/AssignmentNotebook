{
 "cells": [
  {
   "cell_type": "markdown",
   "id": "dfa7ecc4-0da8-4fdb-8a83-c49442e8ecee",
   "metadata": {},
   "source": [
    "# Data Science Tools and Ecosystem"
   ]
  },
  {
   "cell_type": "markdown",
   "id": "01dd841a-387b-4991-9ded-e23ba5e3a3a6",
   "metadata": {},
   "source": [
    "In this notebook, Data Science Tools and Ecosystem are summarized."
   ]
  },
  {
   "cell_type": "markdown",
   "id": "e6856de2-37ee-4036-9f47-170acf8b0170",
   "metadata": {},
   "source": [
    "**Objectives**:\n",
    "* List popular languages for Data Science\n",
    "* List common libraries for Data Science\n",
    "* List Data Science Tools\n",
    "* Arithmetic Expressions in Pythons"
   ]
  },
  {
   "cell_type": "markdown",
   "id": "e25705da-0420-49c4-b2b7-dcd5239cdb76",
   "metadata": {},
   "source": [
    "Some of the popular languages that Data Scientists use are:\n",
    "\n",
    "1. Python\n",
    "2. C++\n",
    "3. R"
   ]
  },
  {
   "cell_type": "markdown",
   "id": "8e9d9810-8ff2-410f-9635-18a1c54cc38a",
   "metadata": {},
   "source": [
    "Some of the commonly used libraries used by Data Scientists include:\n",
    "\n",
    "1. Pandas\n",
    "2. Matplotlib\n",
    "3. Numpy"
   ]
  },
  {
   "cell_type": "markdown",
   "id": "683f77a8-dfea-4a16-8265-e3507962d9fc",
   "metadata": {},
   "source": [
    "|Data Science Tools|\n",
    "|------------------|\n",
    "|Jupyter           |\n",
    "|RStudio           |\n",
    "|Spyder            |"
   ]
  },
  {
   "cell_type": "markdown",
   "id": "5d060ac1-e2fe-42db-9a3a-c574e48b53f1",
   "metadata": {},
   "source": [
    "### Below are a few examples of evaluating arithmetic expressions in Python\n",
    "\n",
    "* 3 * 5\n",
    "* 8 / 4 + 12\n",
    "* 9 ** 3"
   ]
  },
  {
   "cell_type": "code",
   "execution_count": 1,
   "id": "cc68c22f-8754-4882-9ed3-a95610a4371d",
   "metadata": {},
   "outputs": [
    {
     "data": {
      "text/plain": [
       "17"
      ]
     },
     "execution_count": 1,
     "metadata": {},
     "output_type": "execute_result"
    }
   ],
   "source": [
    "#This a simple arithmetic expression to multiply then add integers\n",
    "\n",
    "(3 * 4) + 5"
   ]
  },
  {
   "cell_type": "code",
   "execution_count": 2,
   "id": "02393e9d-9e6c-4b07-8b61-845fc84b82ce",
   "metadata": {},
   "outputs": [
    {
     "data": {
      "text/plain": [
       "3.3333333333333335"
      ]
     },
     "execution_count": 2,
     "metadata": {},
     "output_type": "execute_result"
    }
   ],
   "source": [
    "#This will convert 200 minutes to hours by diving by 60\n",
    "\n",
    "200 / 60"
   ]
  },
  {
   "cell_type": "markdown",
   "id": "03909c89-4d44-454b-b298-d12f9c9e87f7",
   "metadata": {},
   "source": [
    "## Author\n",
    "Thando Mothle"
   ]
  },
  {
   "cell_type": "code",
   "execution_count": null,
   "id": "79a2bb9e-4cc5-41a1-843d-88cdcf0668e6",
   "metadata": {},
   "outputs": [],
   "source": []
  }
 ],
 "metadata": {
  "kernelspec": {
   "display_name": "Python 3 (ipykernel)",
   "language": "python",
   "name": "python3"
  },
  "language_info": {
   "codemirror_mode": {
    "name": "ipython",
    "version": 3
   },
   "file_extension": ".py",
   "mimetype": "text/x-python",
   "name": "python",
   "nbconvert_exporter": "python",
   "pygments_lexer": "ipython3",
   "version": "3.11.9"
  }
 },
 "nbformat": 4,
 "nbformat_minor": 5
}
